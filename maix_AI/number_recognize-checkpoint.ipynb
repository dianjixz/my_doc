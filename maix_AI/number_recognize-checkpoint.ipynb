{
 "cells": [
  {
   "cell_type": "markdown",
   "id": "27b78f79",
   "metadata": {},
   "source": [
    "# 数字识别\n",
    "\n",
    "| 更新时间 | 负责人 | 内容 | 备注 |\n",
    "| --- | --- | --- | --- |\n",
    "| 2021年1月4日 | Rui | 初次编写文档 | ---- |\n",
    "| 2021年1月8日 | dianjixz | 修改文档的编写方式 | 使用 Jupyter notebook 进行编写文档 |\n",
    "| 2021年1月18日 | Rui | 修改文档，增加效果图 | 通过测试的平台有 MaixII-Dock，使用的是 MaixPy3 0.4.0 |\n",
    "\n",
    "## 运行效果\n",
    "\n",
    "<iframe src=\"//player.bilibili.com/player.html?aid=714915927&bvid=BV1MX4y1g7cE&cid=321380350&page=1\" scrolling=\"no\" border=\"0\" frameborder=\"no\" framespacing=\"0\" allowfullscreen=\"true\"> </iframe>\n",
    "\n",
    "## 准备\n",
    "\n",
    "- 在 [MaixHub](https://www.maixhub.com/modelInfo?modelId=24) 上获取模型文件和运行源码（最新版本的系统内置了模型文件 `/home/model/resnet18_1000_awnn*`）\n",
    "- 确认 MaixPy3 版本为 0.4.0 以上\n",
    "- 使用的硬件为 MaixII-Dock\n",
    "- 内存卡内是最新版本的镜像系统\n",
    "- 插卡启动硬件\n",
    "\n",
    "## 数字识别\n",
    "\n",
    "将模型读取到python环境中！"
   ]
  },
  {
   "cell_type": "code",
   "execution_count": null,
   "id": "7bcdec60",
   "metadata": {},
   "outputs": [],
   "source": [
    "class Number_recognition:\n",
    "    labels = [\"1\", \"2\", \"3\", \"4\", \"5\", \"6\", \"7\", \"8\"]\n",
    "    anchors = [2.44, 2.25, 5.03, 4.91, 3.5 , 3.53, 4.16, 3.94, 2.97, 2.84]\n",
    "    model = {\n",
    "        \"param\": \"/root/number_awnn.param\",\n",
    "        \"bin\": \"/root/number_awnn.bin\"\n",
    "    }\n",
    "    options = {\n",
    "        \"model_type\":  \"awnn\",\n",
    "        \"inputs\": {\n",
    "            \"input0\": (224, 224, 3)\n",
    "        },\n",
    "        \"outputs\": {\n",
    "            \"output0\": (7, 7, (1+4+len(labels))*5)\n",
    "        },\n",
    "        \"mean\": [127.5, 127.5, 127.5],\n",
    "        \"norm\": [0.0078125, 0.0078125, 0.0078125],\n",
    "    }\n",
    "    w = options[\"inputs\"][\"input0\"][1]\n",
    "    h = options[\"inputs\"][\"input0\"][0]\n",
    "    def __init__(self):\n",
    "        from maix import nn\n",
    "        from maix.nn import decoder\n",
    "        self.m = nn.load(self.model, opt=self.options)\n",
    "        yolo2_decoder = decoder.Yolo2(len(self.labels), self.anchors, net_in_size=(self.w, self.h), net_out_size=(7, 7))\n",
    "\n",
    "global number_recognition\n",
    "Number_recognition = Number_recognition()"
   ]
  },
  {
   "cell_type": "code",
   "execution_count": null,
   "id": "bdd2a0dd",
   "metadata": {},
   "outputs": [],
   "source": [
    "开始数字识别"
   ]
  },
  {
   "cell_type": "code",
   "execution_count": null,
   "id": "3b462dc6",
   "metadata": {},
   "outputs": [],
   "source": [
    "while True:\n",
    "    t = time.time()\n",
    "    img = camera.capture()\n",
    "    if not img:\n",
    "        time.sleep(0.01)\n",
    "        continue\n",
    "    AI_img = img.copy().resize(224, 224)\n",
    "    print(\"-- capture: \", time.time() - t )\n",
    "    t = time.time()\n",
    "    out = m.forward(AI_img.tobytes(), quantize=True, layout=\"hwc\")\n",
    "    print(\"-- forward: \", time.time() - t )\n",
    "    t = time.time()\n",
    "    boxes, probs = yolo2_decoder.run(out, nms=0.3, threshold=0.5, img_size=(240, 240))\n",
    "    print(\"-- decode: \", time.time() - t )\n",
    "    t = time.time()\n",
    "    for i, box in enumerate(boxes):\n",
    "        class_id = probs[i][0]\n",
    "        prob = probs[i][1][class_id]\n",
    "        disp_str = \"{}:{:.2f}%\".format(labels[class_id], prob*100)\n",
    "        draw_rectangle_with_title(display.get_draw(), box, disp_str)\n",
    "    print(\"-- draw: \", time.time() - t )\n",
    "    t = time.time()\n",
    "    display.show()\n",
    "    print(\"-- show: \", time.time() - t )"
   ]
  }
 ],
 "metadata": {
  "kernelspec": {
   "display_name": "RPyc-Python",
   "language": "Python",
   "name": "rpyc"
  },
  "language_info": {
   "codemirror_mode": "python",
   "file_extension": ".py",
   "mimetype": "text/python",
   "name": "Python"
  }
 },
 "nbformat": 4,
 "nbformat_minor": 5
}
