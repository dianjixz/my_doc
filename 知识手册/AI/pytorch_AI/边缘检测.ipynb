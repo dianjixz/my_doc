{
 "cells": [
  {
   "cell_type": "markdown",
   "id": "06158570",
   "metadata": {},
   "source": [
    "# v831 部署 Sobel 卷积边缘检测\n",
    "\n",
    "边缘就是值变化剧烈的地方, 如果对值的变化求导, 则边缘部分就是导数局部最大。\n",
    "\n",
    "但是在图像处理时没有具体的函数让我们求导, 使用卷积运算则可以很好的近似替代。\n",
    "\n",
    "卷积运算是神经网络的最常用的基本运算，所以非常适合用来展示神经网络在 v831 上的部署过程。\n",
    "\n",
    "## 边缘检测效果\n"
   ]
  },
  {
   "cell_type": "code",
   "execution_count": null,
   "id": "5b78497d",
   "metadata": {},
   "outputs": [],
   "source": []
  },
  {
   "cell_type": "code",
   "execution_count": null,
   "id": "2c374128",
   "metadata": {},
   "outputs": [],
   "source": []
  },
  {
   "cell_type": "code",
   "execution_count": null,
   "id": "a40c907b",
   "metadata": {},
   "outputs": [],
   "source": []
  },
  {
   "cell_type": "code",
   "execution_count": null,
   "id": "2df2f0d8",
   "metadata": {},
   "outputs": [],
   "source": []
  },
  {
   "cell_type": "code",
   "execution_count": 1,
   "id": "8c592d47",
   "metadata": {},
   "outputs": [],
   "source": [
    "'''\n",
    "    simple sobel edge demo\n",
    "    visit: https://neucrack.com/p/377\n",
    "    @author neucrack\n",
    "    @license MIT\n",
    "'''\n",
    "# 引入模块\n",
    "import torch\n",
    "import torch.nn as nn\n",
    "import numpy as np\n",
    "from PIL import Image\n",
    "import matplotlib.pyplot as plt\n"
   ]
  },
  {
   "cell_type": "code",
   "execution_count": 2,
   "id": "3f51681a",
   "metadata": {},
   "outputs": [],
   "source": [
    "# 定义一个网络模型\n",
    "class Net(nn.Module):\n",
    "    def __init__(self):\n",
    "        super(Net, self).__init__()\n",
    "        self.conv1 = nn.Conv2d(3, 3, 3, padding=(0, 0), bias=False)\n",
    "    def forward(self, x):\n",
    "        x = self.conv1(x)\n",
    "        return x\n",
    "net = Net()\n"
   ]
  },
  {
   "cell_type": "code",
   "execution_count": 94,
   "id": "2b176a35",
   "metadata": {},
   "outputs": [],
   "source": [
    "# 定义卷积权重\n",
    "# sobel全边缘检测算子\n",
    "conv_rgb_core_sobel = [\n",
    "                        [[-1,-1,-1],[-1,8,-1], [-1,    -1,    -1],\n",
    "                         [0,0,0],[0,0,0], [0,0,0],\n",
    "                         [0,0,0],[0,0,0], [0,0,0]\n",
    "                        ],\n",
    "                        [[0,0,0],[0,0,0], [0,0,0],\n",
    "                         [-1,-1,-1],[-1,8,-1], [-1,    -1,    -1],\n",
    "                         [0,0,0],[0,0,0], [0,0,0]\n",
    "                        ],\n",
    "                        [[0,0,0],[0,0,0], [0,0,0],\n",
    "                         [0,0,0],[0,0,0], [0,0,0],\n",
    "                         [-1,-1,-1],[-1,8,-1], [-1,    -1,    -1],\n",
    "                        ]]\n",
    "\n",
    "# sobel垂直边缘检测算子\n",
    "conv_rgb_core_sobel_vertical = [\n",
    "                        [[-1,0,1],[-2,0,2], [-1,    0,    1],\n",
    "                         [0,0,0],[0,0,0], [0,0,0],\n",
    "                         [0,0,0],[0,0,0], [0,0,0]\n",
    "                        ],\n",
    "                        [[0,0,0],[0,0,0], [0,0,0],\n",
    "                         [-1,0,1],[-2,0,2], [-1,    0,    1],\n",
    "                         [0,0,0],[0,0,0], [0,0,0]\n",
    "                        ],\n",
    "                        [[0,0,0],[0,0,0], [0,0,0],\n",
    "                         [0,0,0],[0,0,0], [0,0,0],\n",
    "                         [-1,0,1],[-2,0,2], [-1,    0,    1],\n",
    "                        ]]\n",
    "\n",
    "# sobel水平边缘检测算子\n",
    "conv_rgb_core_sobel_horizontal = [\n",
    "                        [[1,2,1],[0,0,0], [-1, -2, -1],\n",
    "                         [0,0,0],[0,0,0], [0,0,0],\n",
    "                         [0,0,0],[0,0,0], [0,0,0]\n",
    "                        ],\n",
    "                        [[0,0,0],[0,0,0], [0,0,0],\n",
    "                         [1,2,1],[0,0,0], [-1, -2, -1],\n",
    "                         [0,0,0],[0,0,0], [0,0,0]\n",
    "                        ],\n",
    "                        [[0,0,0],[0,0,0], [0,0,0],\n",
    "                         [0,0,0],[0,0,0], [0,0,0],\n",
    "                         [1,2,1],[0,0,0], [-1, -2, -1],\n",
    "                        ]]\n",
    "\n"
   ]
  },
  {
   "cell_type": "code",
   "execution_count": 95,
   "id": "ffaeef73",
   "metadata": {},
   "outputs": [],
   "source": [
    "# 网络载入权重函数\n",
    "def sobel(net, kernel):\n",
    "    sobel_kernel = np.array(kernel,    dtype='float32')\n",
    "    sobel_kernel = sobel_kernel.reshape((3,    3,    3,    3))\n",
    "    net.conv1.weight.data = torch.from_numpy(sobel_kernel)\n",
    "params = list(net.parameters())"
   ]
  },
  {
   "cell_type": "code",
   "execution_count": 1,
   "id": "0fc099b6",
   "metadata": {},
   "outputs": [
    {
     "ename": "NameError",
     "evalue": "name 'Image' is not defined",
     "output_type": "error",
     "traceback": [
      "\u001b[0;31m---------------------------------------------------------------------------\u001b[0m",
      "\u001b[0;31mNameError\u001b[0m                                 Traceback (most recent call last)",
      "\u001b[0;32m/tmp/ipykernel_23364/362004380.py\u001b[0m in \u001b[0;36m<module>\u001b[0;34m\u001b[0m\n\u001b[1;32m      1\u001b[0m \u001b[0;31m# 打开一张图片\u001b[0m\u001b[0;34m\u001b[0m\u001b[0;34m\u001b[0m\u001b[0;34m\u001b[0m\u001b[0m\n\u001b[0;32m----> 2\u001b[0;31m \u001b[0mpil_img\u001b[0m \u001b[0;34m=\u001b[0m \u001b[0mImage\u001b[0m\u001b[0;34m.\u001b[0m\u001b[0mopen\u001b[0m\u001b[0;34m(\u001b[0m\u001b[0;34m\"/home/nihao/work/lin/pictures/class1_5.jpg\"\u001b[0m\u001b[0;34m)\u001b[0m\u001b[0;34m\u001b[0m\u001b[0;34m\u001b[0m\u001b[0m\n\u001b[0m\u001b[1;32m      3\u001b[0m \u001b[0mdisplay\u001b[0m\u001b[0;34m(\u001b[0m\u001b[0mpil_img\u001b[0m\u001b[0;34m)\u001b[0m\u001b[0;34m\u001b[0m\u001b[0;34m\u001b[0m\u001b[0m\n\u001b[1;32m      4\u001b[0m \u001b[0minput_img\u001b[0m \u001b[0;34m=\u001b[0m \u001b[0mnp\u001b[0m\u001b[0;34m.\u001b[0m\u001b[0marray\u001b[0m\u001b[0;34m(\u001b[0m\u001b[0mpil_img\u001b[0m\u001b[0;34m)\u001b[0m\u001b[0;34m\u001b[0m\u001b[0;34m\u001b[0m\u001b[0m\n\u001b[1;32m      5\u001b[0m \u001b[0mprint\u001b[0m\u001b[0;34m(\u001b[0m\u001b[0minput_img\u001b[0m\u001b[0;34m.\u001b[0m\u001b[0mshape\u001b[0m\u001b[0;34m)\u001b[0m\u001b[0;34m\u001b[0m\u001b[0;34m\u001b[0m\u001b[0m\n",
      "\u001b[0;31mNameError\u001b[0m: name 'Image' is not defined"
     ]
    }
   ],
   "source": [
    "# 打开一张图片\n",
    "pil_img = Image.open(\"/home/nihao/work/lin/pictures/class1_5.jpg\")\n",
    "display(pil_img)\n",
    "input_img = np.array(pil_img)\n",
    "print(input_img.shape)\n"
   ]
  },
  {
   "cell_type": "code",
   "execution_count": 97,
   "id": "9a3f5916",
   "metadata": {},
   "outputs": [
    {
     "name": "stdout",
     "output_type": "stream",
     "text": [
      "(224, 224, 3)\n",
      "input shape: torch.Size([1, 3, 224, 224])\n"
     ]
    }
   ],
   "source": [
    "# 图片归一化处理\n",
    "input_tensor = (input_img.astype(np.float32) - 127.5) / 128 # to [-1, 1]\n",
    "\n",
    "print(input_tensor.shape)\n",
    "\n",
    "input_tensor = torch.Tensor(input_tensor).permute((2, 0, 1))\n",
    "\n",
    "input_tensor = input_tensor.unsqueeze(0)\n",
    "\n",
    "print(\"input shape:\", input_tensor.shape)\n"
   ]
  },
  {
   "cell_type": "code",
   "execution_count": 98,
   "id": "c6480637",
   "metadata": {},
   "outputs": [
    {
     "name": "stdout",
     "output_type": "stream",
     "text": [
      "torch.Size([3, 224, 224])\n",
      "input shape: torch.Size([1, 3, 224, 224])\n"
     ]
    }
   ],
   "source": [
    "# 将入片转换成 pytorch 张量\n",
    "input_tensor = (input_img.astype(np.float32) - 127.5) / 128 # to [-1, 1]\n",
    "input_tensor = torch.Tensor(input_tensor).permute((2, 0, 1))\n",
    "print(input_tensor.shape)\n",
    "input_tensor = input_tensor.unsqueeze(0)\n",
    "print(\"input shape:\", input_tensor.shape)\n"
   ]
  },
  {
   "cell_type": "code",
   "execution_count": 114,
   "id": "64241431",
   "metadata": {},
   "outputs": [],
   "source": [
    "\n",
    "global sobel_img \n",
    "global sobel_vertical_img\n",
    "global sobel_horizontal_img \n",
    "\n",
    "\n",
    "\n",
    "sobel_img = None\n",
    "sobel_vertical_img = None\n",
    "sobel_horizontal_img = None\n",
    "\n",
    "#载入网络权重\n",
    "sobel(net, conv_rgb_core_sobel_vertical)\n",
    "#在推理模式下运行网络\n",
    "with torch.no_grad():\n",
    "    out = net(input_tensor)\n",
    "    sobel_vertical_img_t = out.numpy()[0].transpose([1,2,0])\n",
    "\n",
    "    \n",
    "\n",
    "#载入网络权重\n",
    "sobel(net, conv_rgb_core_sobel_horizontal)\n",
    "#在推理模式下运行网络\n",
    "with torch.no_grad():\n",
    "    out = net(input_tensor)\n",
    "    sobel_horizontal_img_t = out.numpy()[0].transpose([1,2,0])\n",
    "\n",
    "    \n",
    "#载入网络权重\n",
    "sobel(net, conv_rgb_core_sobel)\n",
    "#在推理模式下运行网络\n",
    "with torch.no_grad():\n",
    "    out = net(input_tensor)\n",
    "    sobel_img_t = out.numpy()[0].transpose([1,2,0])\n",
    "\n",
    "\n"
   ]
  },
  {
   "cell_type": "code",
   "execution_count": 2,
   "id": "1a61b8e6",
   "metadata": {},
   "outputs": [
    {
     "ename": "NameError",
     "evalue": "name 'plt' is not defined",
     "output_type": "error",
     "traceback": [
      "\u001b[0;31m---------------------------------------------------------------------------\u001b[0m",
      "\u001b[0;31mNameError\u001b[0m                                 Traceback (most recent call last)",
      "\u001b[0;32m/tmp/ipykernel_23364/430368330.py\u001b[0m in \u001b[0;36m<module>\u001b[0;34m\u001b[0m\n\u001b[0;32m----> 1\u001b[0;31m \u001b[0mplt\u001b[0m\u001b[0;34m.\u001b[0m\u001b[0mfigure\u001b[0m\u001b[0;34m(\u001b[0m\u001b[0;34m)\u001b[0m\u001b[0;34m\u001b[0m\u001b[0;34m\u001b[0m\u001b[0m\n\u001b[0m\u001b[1;32m      2\u001b[0m \u001b[0mplt\u001b[0m\u001b[0;34m.\u001b[0m\u001b[0mfigure\u001b[0m\u001b[0;34m(\u001b[0m\u001b[0;34m)\u001b[0m\u001b[0;34m\u001b[0m\u001b[0;34m\u001b[0m\u001b[0m\n\u001b[1;32m      3\u001b[0m \u001b[0mplt\u001b[0m\u001b[0;34m.\u001b[0m\u001b[0msubplot\u001b[0m\u001b[0;34m(\u001b[0m\u001b[0;36m1\u001b[0m\u001b[0;34m,\u001b[0m \u001b[0;36m5\u001b[0m\u001b[0;34m,\u001b[0m \u001b[0;36m1\u001b[0m\u001b[0;34m)\u001b[0m\u001b[0;34m\u001b[0m\u001b[0;34m\u001b[0m\u001b[0m\n\u001b[1;32m      4\u001b[0m \u001b[0mplt\u001b[0m\u001b[0;34m.\u001b[0m\u001b[0mimshow\u001b[0m\u001b[0;34m(\u001b[0m\u001b[0minput_img\u001b[0m\u001b[0;34m)\u001b[0m\u001b[0;34m\u001b[0m\u001b[0;34m\u001b[0m\u001b[0m\n\u001b[1;32m      5\u001b[0m \u001b[0mplt\u001b[0m\u001b[0;34m.\u001b[0m\u001b[0msubplot\u001b[0m\u001b[0;34m(\u001b[0m\u001b[0;36m1\u001b[0m\u001b[0;34m,\u001b[0m \u001b[0;36m5\u001b[0m\u001b[0;34m,\u001b[0m \u001b[0;36m2\u001b[0m\u001b[0;34m)\u001b[0m\u001b[0;34m\u001b[0m\u001b[0;34m\u001b[0m\u001b[0m\n",
      "\u001b[0;31mNameError\u001b[0m: name 'plt' is not defined"
     ]
    }
   ],
   "source": [
    "plt.figure()\n",
    "plt.figure()\n",
    "plt.subplot(1, 5, 1)\n",
    "plt.imshow(input_img)\n",
    "plt.subplot(1, 5, 2)\n",
    "plt.imshow(sobel_img_t)\n",
    "plt.subplot(1, 5, 3)\n",
    "plt.imshow(sobel_vertical_img_t)\n",
    "plt.subplot(1, 5, 4)\n",
    "plt.imshow(sobel_horizontal_img_t)\n",
    "plt.subplot(1, 5, 5)\n",
    "out = np.sqrt(np.square(sobel_vertical_img_t) + np.square(sobel_horizontal_img_t))\n",
    "plt.imshow(out)\n",
    "plt.show()"
   ]
  },
  {
   "cell_type": "code",
   "execution_count": 120,
   "id": "d4e3ea7d",
   "metadata": {},
   "outputs": [
    {
     "name": "stdout",
     "output_type": "stream",
     "text": [
      "导出网络完成！\n"
     ]
    }
   ],
   "source": [
    "# 导出onnx网络\n",
    "with torch.no_grad():\n",
    "    torch.onnx.export(net, input_tensor, \"./model.onnx\", export_params=True, input_names = [\"input0\"], output_names=[\"output0\"])\n",
    "    print(\"导出网络完成！\")"
   ]
  },
  {
   "cell_type": "code",
   "execution_count": 121,
   "id": "93498584",
   "metadata": {},
   "outputs": [
    {
     "name": "stderr",
     "output_type": "stream",
     "text": [
      "sh:行1: onnx2ncnn：未找到命令\n"
     ]
    },
    {
     "ename": "FileNotFoundError",
     "evalue": "[Errno 2] No such file or directory: './conv0.param'",
     "output_type": "error",
     "traceback": [
      "\u001b[0;31m---------------------------------------------------------------------------\u001b[0m",
      "\u001b[0;31mFileNotFoundError\u001b[0m                         Traceback (most recent call last)",
      "\u001b[0;32m/tmp/ipykernel_11405/512682583.py\u001b[0m in \u001b[0;36m<module>\u001b[0;34m\u001b[0m\n\u001b[1;32m     15\u001b[0m         \u001b[0mf\u001b[0m\u001b[0;34m.\u001b[0m\u001b[0mwrite\u001b[0m\u001b[0;34m(\u001b[0m\u001b[0mcontent\u001b[0m\u001b[0;34m)\u001b[0m\u001b[0;34m\u001b[0m\u001b[0;34m\u001b[0m\u001b[0m\n\u001b[1;32m     16\u001b[0m \u001b[0;34m\u001b[0m\u001b[0m\n\u001b[0;32m---> 17\u001b[0;31m \u001b[0monnx_to_ncnn\u001b[0m\u001b[0;34m(\u001b[0m\u001b[0minput_shape\u001b[0m \u001b[0;34m=\u001b[0m \u001b[0;34m(\u001b[0m\u001b[0;36m3\u001b[0m\u001b[0;34m,\u001b[0m \u001b[0;36m224\u001b[0m\u001b[0;34m,\u001b[0m \u001b[0;36m224\u001b[0m\u001b[0;34m)\u001b[0m\u001b[0;34m,\u001b[0m \u001b[0monnx\u001b[0m \u001b[0;34m=\u001b[0m \u001b[0;34m\"./model.onnx\"\u001b[0m\u001b[0;34m,\u001b[0m \u001b[0mncnn_param\u001b[0m\u001b[0;34m=\u001b[0m\u001b[0;34m\"./conv0.param\"\u001b[0m\u001b[0;34m,\u001b[0m \u001b[0mncnn_bin\u001b[0m \u001b[0;34m=\u001b[0m \u001b[0;34m\"./conv0.bin\"\u001b[0m\u001b[0;34m)\u001b[0m\u001b[0;34m\u001b[0m\u001b[0;34m\u001b[0m\u001b[0m\n\u001b[0m\u001b[1;32m     18\u001b[0m \u001b[0;34m\u001b[0m\u001b[0m\n",
      "\u001b[0;32m/tmp/ipykernel_11405/512682583.py\u001b[0m in \u001b[0;36monnx_to_ncnn\u001b[0;34m(input_shape, onnx, ncnn_param, ncnn_bin)\u001b[0m\n\u001b[1;32m      5\u001b[0m     \u001b[0mcmd\u001b[0m \u001b[0;34m=\u001b[0m \u001b[0;34mf\"onnx2ncnn {onnx} {ncnn_param} {ncnn_bin}\"\u001b[0m       \u001b[0;31m#可以更换工具目录\u001b[0m\u001b[0;34m\u001b[0m\u001b[0;34m\u001b[0m\u001b[0m\n\u001b[1;32m      6\u001b[0m     \u001b[0mos\u001b[0m\u001b[0;34m.\u001b[0m\u001b[0msystem\u001b[0m\u001b[0;34m(\u001b[0m\u001b[0mcmd\u001b[0m\u001b[0;34m)\u001b[0m\u001b[0;34m\u001b[0m\u001b[0;34m\u001b[0m\u001b[0m\n\u001b[0;32m----> 7\u001b[0;31m     \u001b[0;32mwith\u001b[0m \u001b[0mopen\u001b[0m\u001b[0;34m(\u001b[0m\u001b[0mncnn_param\u001b[0m\u001b[0;34m)\u001b[0m \u001b[0;32mas\u001b[0m \u001b[0mf\u001b[0m\u001b[0;34m:\u001b[0m\u001b[0;34m\u001b[0m\u001b[0;34m\u001b[0m\u001b[0m\n\u001b[0m\u001b[1;32m      8\u001b[0m         \u001b[0mcontent\u001b[0m \u001b[0;34m=\u001b[0m \u001b[0mf\u001b[0m\u001b[0;34m.\u001b[0m\u001b[0mread\u001b[0m\u001b[0;34m(\u001b[0m\u001b[0;34m)\u001b[0m\u001b[0;34m.\u001b[0m\u001b[0msplit\u001b[0m\u001b[0;34m(\u001b[0m\u001b[0;34m\"\\n\"\u001b[0m\u001b[0;34m)\u001b[0m\u001b[0;34m\u001b[0m\u001b[0;34m\u001b[0m\u001b[0m\n\u001b[1;32m      9\u001b[0m         \u001b[0;32mif\u001b[0m \u001b[0mlen\u001b[0m\u001b[0;34m(\u001b[0m\u001b[0minput_shape\u001b[0m\u001b[0;34m)\u001b[0m \u001b[0;34m==\u001b[0m \u001b[0;36m1\u001b[0m\u001b[0;34m:\u001b[0m\u001b[0;34m\u001b[0m\u001b[0;34m\u001b[0m\u001b[0m\n",
      "\u001b[0;31mFileNotFoundError\u001b[0m: [Errno 2] No such file or directory: './conv0.param'"
     ]
    }
   ],
   "source": [
    "# 使用ncnn 工具将 onnx 网络转换成 ncnn网络\n",
    "def onnx_to_ncnn(input_shape, onnx=\"out/model.onnx\", ncnn_param=\"out/conv0.param\", ncnn_bin = \"out/conv0.bin\"):\n",
    "    import os\n",
    "    # onnx2ncnn tool compiled from ncnn/tools/onnx, and in the buld dir\n",
    "    cmd = f\"onnx2ncnn {onnx} {ncnn_param} {ncnn_bin}\"       #可以更换工具目录\n",
    "    os.system(cmd)\n",
    "    with open(ncnn_param) as f:\n",
    "        content = f.read().split(\"\\n\")\n",
    "        if len(input_shape) == 1:\n",
    "            content[2] += \" 0={}\".format(input_shape[0])\n",
    "        else:\n",
    "            content[2] += \" 0={} 1={} 2={}\".format(input_shape[2], input_shape[1], input_shape[0])\n",
    "        content = \"\\n\".join(content)\n",
    "    with open(ncnn_param, \"w\") as f:\n",
    "        f.write(content)\n",
    "\n",
    "onnx_to_ncnn(input_shape = (3, 224, 224), onnx = \"./model.onnx\", ncnn_param=\"./conv0.param\", ncnn_bin = \"./conv0.bin\")\n",
    "        "
   ]
  },
  {
   "cell_type": "markdown",
   "id": "c59bc71f",
   "metadata": {},
   "source": [
    "# 使用在线量化工具进行网络量化！"
   ]
  },
  {
   "cell_type": "code",
   "execution_count": 106,
   "id": "bd979b79",
   "metadata": {},
   "outputs": [
    {
     "name": "stdout",
     "output_type": "stream",
     "text": [
      "导出网络完成！\n"
     ]
    }
   ],
   "source": [
    "\n"
   ]
  },
  {
   "cell_type": "code",
   "execution_count": 11,
   "id": "39e800b9",
   "metadata": {},
   "outputs": [
    {
     "data": {
      "text/plain": [
       "Net(\n",
       "  (conv1): Conv2d(3, 3, kernel_size=(3, 3), stride=(1, 1), bias=False)\n",
       ")"
      ]
     },
     "execution_count": 11,
     "metadata": {},
     "output_type": "execute_result"
    }
   ],
   "source": []
  },
  {
   "cell_type": "code",
   "execution_count": 12,
   "id": "6d9d94cd",
   "metadata": {},
   "outputs": [],
   "source": [
    "import torch.onnx"
   ]
  },
  {
   "cell_type": "code",
   "execution_count": 15,
   "id": "27f0a433",
   "metadata": {},
   "outputs": [],
   "source": [
    "\n",
    "\n",
    "torch.onnx.export(net, input_tensor, \"/home/nihao/work/work_space/wiki/model.onnx\", export_params=True, input_names = [\"input0\"], output_names=[\"output0\"])\n",
    "\n",
    "# torch.onnx.export(net,               # model being run\n",
    "#                   input_tensor,                         # model input (or a tuple for multiple inputs)\n",
    "#                   \"/home/nihao/work/work_space/wiki/super_resolution.onnx\",   # where to save the model (can be a file or file-like object)\n",
    "#                   export_params=True,        # store the trained parameter weights inside the model file\n",
    "#                   opset_version=10,          # the ONNX version to export the model to\n",
    "#                   do_constant_folding=True,  # whether to execute constant folding for optimization\n",
    "#                   input_names = ['input'],   # the model's input names\n",
    "#                   output_names = ['output'], # the model's output names\n",
    "#                   dynamic_axes={'input' : {0 : 'batch_size'},    # variable lenght axes\n",
    "#                                 'output' : {0 : 'batch_size'}})"
   ]
  },
  {
   "cell_type": "code",
   "execution_count": null,
   "id": "674053f2",
   "metadata": {},
   "outputs": [],
   "source": []
  },
  {
   "cell_type": "code",
   "execution_count": null,
   "id": "ac27af27",
   "metadata": {},
   "outputs": [],
   "source": []
  },
  {
   "cell_type": "code",
   "execution_count": 3,
   "id": "a503e440",
   "metadata": {},
   "outputs": [
    {
     "ename": "NameError",
     "evalue": "name 'np' is not defined",
     "output_type": "error",
     "traceback": [
      "\u001b[0;31m---------------------------------------------------------------------------\u001b[0m",
      "\u001b[0;31mNameError\u001b[0m                                 Traceback (most recent call last)",
      "\u001b[0;32m/tmp/ipykernel_23364/132648435.py\u001b[0m in \u001b[0;36m<module>\u001b[0;34m\u001b[0m\n\u001b[0;32m----> 1\u001b[0;31m \u001b[0mma\u001b[0m \u001b[0;34m=\u001b[0m \u001b[0mnp\u001b[0m\u001b[0;34m.\u001b[0m\u001b[0mabs\u001b[0m\u001b[0;34m(\u001b[0m\u001b[0mout\u001b[0m\u001b[0;34m)\u001b[0m\u001b[0;34m\u001b[0m\u001b[0;34m\u001b[0m\u001b[0m\n\u001b[0m\u001b[1;32m      2\u001b[0m \u001b[0;34m\u001b[0m\u001b[0m\n\u001b[1;32m      3\u001b[0m \u001b[0;31m# mb = mb * 255 / mb.max()\u001b[0m\u001b[0;34m\u001b[0m\u001b[0;34m\u001b[0m\u001b[0;34m\u001b[0m\u001b[0m\n\u001b[1;32m      4\u001b[0m \u001b[0;34m\u001b[0m\u001b[0m\n\u001b[1;32m      5\u001b[0m \u001b[0;31m# mb = np.around(mb).astype(np.uint8)\u001b[0m\u001b[0;34m\u001b[0m\u001b[0;34m\u001b[0m\u001b[0;34m\u001b[0m\u001b[0m\n",
      "\u001b[0;31mNameError\u001b[0m: name 'np' is not defined"
     ]
    }
   ],
   "source": [
    "ma = np.abs(out)\n",
    "\n",
    "# mb = mb * 255 / mb.max()\n",
    "\n",
    "# mb = np.around(mb).astype(np.uint8)\n",
    "\n",
    "\n",
    "mb = ma.flatten()\n",
    "\n",
    "bins = []\n",
    "\n",
    "cous = 100\n",
    "\n",
    "mka = mb.max() / cous\n",
    "\n",
    "\n",
    "\n",
    "\n",
    "for i in range(0,cous):\n",
    "    bins.append(mka * i)\n",
    "\n",
    "    \n",
    "# print(bins)\n",
    "plt.hist(mb, bins =  bins) \n",
    "plt.title(\"histogram\") \n",
    "plt.show()\n",
    "\n",
    "\n",
    "\n",
    "# mc = np.histogram(mb)\n",
    "\n",
    "# print(mc)\n",
    "\n",
    "# print(mb)\n",
    "\n",
    "\n",
    "# mc = mb\n",
    "\n",
    "# # md_max = md.max()\n",
    "\n",
    "# # md_min = md.min()\n",
    "\n",
    "\n",
    "# # print(md_max, md_min)\n",
    "\n",
    "# # print(mc)\n",
    "# plt.imshow(mc)"
   ]
  },
  {
   "cell_type": "code",
   "execution_count": 4,
   "id": "d3dbab04",
   "metadata": {},
   "outputs": [
    {
     "ename": "NameError",
     "evalue": "name 'np' is not defined",
     "output_type": "error",
     "traceback": [
      "\u001b[0;31m---------------------------------------------------------------------------\u001b[0m",
      "\u001b[0;31mNameError\u001b[0m                                 Traceback (most recent call last)",
      "\u001b[0;32m/tmp/ipykernel_23364/4035112493.py\u001b[0m in \u001b[0;36m<module>\u001b[0;34m\u001b[0m\n\u001b[0;32m----> 1\u001b[0;31m \u001b[0mmd\u001b[0m \u001b[0;34m=\u001b[0m \u001b[0mnp\u001b[0m\u001b[0;34m.\u001b[0m\u001b[0mabs\u001b[0m\u001b[0;34m(\u001b[0m\u001b[0mout\u001b[0m\u001b[0;34m)\u001b[0m\u001b[0;34m\u001b[0m\u001b[0;34m\u001b[0m\u001b[0m\n\u001b[0m\u001b[1;32m      2\u001b[0m \u001b[0;34m\u001b[0m\u001b[0m\n\u001b[1;32m      3\u001b[0m \u001b[0;34m\u001b[0m\u001b[0m\n\u001b[1;32m      4\u001b[0m \u001b[0mmc\u001b[0m \u001b[0;34m=\u001b[0m \u001b[0mmd\u001b[0m \u001b[0;34m*\u001b[0m \u001b[0;36m3\u001b[0m\u001b[0;34m\u001b[0m\u001b[0;34m\u001b[0m\u001b[0m\n\u001b[1;32m      5\u001b[0m \u001b[0;34m\u001b[0m\u001b[0m\n",
      "\u001b[0;31mNameError\u001b[0m: name 'np' is not defined"
     ]
    }
   ],
   "source": [
    "md = np.abs(out)\n",
    "\n",
    "\n",
    "mc = md * 3\n",
    "\n",
    "# md_max = md.max()\n",
    "\n",
    "# md_min = md.min()\n",
    "\n",
    "\n",
    "# print(md_max, md_min)\n",
    "\n",
    "# print(md)\n",
    "plt.imshow(mc)"
   ]
  },
  {
   "cell_type": "code",
   "execution_count": null,
   "id": "6ad90a90",
   "metadata": {},
   "outputs": [],
   "source": [
    "a1 = out\n",
    "\n",
    "print(\"数据类型\",type(a1))           #打印数组数据类型  \n",
    "print(\"数组元素数据类型：\",a1.dtype) #打印数组元素数据类型  \n",
    "print(\"数组元素总数：\",a1.size)      #打印数组尺寸，即数组元素总数  \n",
    "print(\"数组形状：\",a1.shape)         #打印数组形状  \n",
    "print(\"数组的维度数目\",a1.ndim)      #打印数组的维度数目"
   ]
  },
  {
   "cell_type": "code",
   "execution_count": null,
   "id": "5ba70fed",
   "metadata": {},
   "outputs": [],
   "source": []
  },
  {
   "cell_type": "code",
   "execution_count": null,
   "id": "89f494c9",
   "metadata": {},
   "outputs": [],
   "source": [
    "sobel(net, conv_rgb_core_sobel_vertical)\n",
    "out_v = net(input_tensor).detach().numpy()[0].transpose([1,2,0])\n",
    "\n",
    "sobel(net, conv_rgb_core_sobel_horizontal)\n",
    "out_h = net(input_tensor).detach().numpy()[0].transpose([1,2,0])\n"
   ]
  },
  {
   "cell_type": "code",
   "execution_count": null,
   "id": "acd91e82",
   "metadata": {},
   "outputs": [],
   "source": [
    "\n",
    "print(\"out shape: {}, tensor:{}\".format(out.shape, out))\n",
    "print(out.shape, out.max(), out.min())"
   ]
  },
  {
   "cell_type": "code",
   "execution_count": null,
   "id": "da1a7be0",
   "metadata": {},
   "outputs": [],
   "source": []
  },
  {
   "cell_type": "code",
   "execution_count": 5,
   "id": "1902801d",
   "metadata": {},
   "outputs": [
    {
     "ename": "NameError",
     "evalue": "name 'plt' is not defined",
     "output_type": "error",
     "traceback": [
      "\u001b[0;31m---------------------------------------------------------------------------\u001b[0m",
      "\u001b[0;31mNameError\u001b[0m                                 Traceback (most recent call last)",
      "\u001b[0;32m/tmp/ipykernel_23364/2428061265.py\u001b[0m in \u001b[0;36m<module>\u001b[0;34m\u001b[0m\n\u001b[0;32m----> 1\u001b[0;31m \u001b[0mplt\u001b[0m\u001b[0;34m.\u001b[0m\u001b[0mfigure\u001b[0m\u001b[0;34m(\u001b[0m\u001b[0;34m)\u001b[0m\u001b[0;34m\u001b[0m\u001b[0;34m\u001b[0m\u001b[0m\n\u001b[0m\u001b[1;32m      2\u001b[0m \u001b[0mplt\u001b[0m\u001b[0;34m.\u001b[0m\u001b[0mfigure\u001b[0m\u001b[0;34m(\u001b[0m\u001b[0;34m)\u001b[0m\u001b[0;34m\u001b[0m\u001b[0;34m\u001b[0m\u001b[0m\n\u001b[1;32m      3\u001b[0m \u001b[0mplt\u001b[0m\u001b[0;34m.\u001b[0m\u001b[0msubplot\u001b[0m\u001b[0;34m(\u001b[0m\u001b[0;36m1\u001b[0m\u001b[0;34m,\u001b[0m \u001b[0;36m5\u001b[0m\u001b[0;34m,\u001b[0m \u001b[0;36m1\u001b[0m\u001b[0;34m)\u001b[0m\u001b[0;34m\u001b[0m\u001b[0;34m\u001b[0m\u001b[0m\n\u001b[1;32m      4\u001b[0m \u001b[0minput\u001b[0m \u001b[0;34m=\u001b[0m \u001b[0minput_tensor\u001b[0m\u001b[0;34m.\u001b[0m\u001b[0mnumpy\u001b[0m\u001b[0;34m(\u001b[0m\u001b[0;34m)\u001b[0m\u001b[0;34m[\u001b[0m\u001b[0;36m0\u001b[0m\u001b[0;34m]\u001b[0m\u001b[0;34m.\u001b[0m\u001b[0mtranspose\u001b[0m\u001b[0;34m(\u001b[0m\u001b[0;34m(\u001b[0m\u001b[0;36m1\u001b[0m\u001b[0;34m,\u001b[0m\u001b[0;36m2\u001b[0m\u001b[0;34m,\u001b[0m\u001b[0;36m0\u001b[0m\u001b[0;34m)\u001b[0m\u001b[0;34m)\u001b[0m\u001b[0;34m\u001b[0m\u001b[0;34m\u001b[0m\u001b[0m\n\u001b[1;32m      5\u001b[0m \u001b[0mprint\u001b[0m\u001b[0;34m(\u001b[0m\u001b[0minput\u001b[0m\u001b[0;34m.\u001b[0m\u001b[0mmax\u001b[0m\u001b[0;34m(\u001b[0m\u001b[0;34m)\u001b[0m\u001b[0;34m,\u001b[0m \u001b[0minput\u001b[0m\u001b[0;34m.\u001b[0m\u001b[0mmin\u001b[0m\u001b[0;34m(\u001b[0m\u001b[0;34m)\u001b[0m\u001b[0;34m)\u001b[0m\u001b[0;34m\u001b[0m\u001b[0;34m\u001b[0m\u001b[0m\n",
      "\u001b[0;31mNameError\u001b[0m: name 'plt' is not defined"
     ]
    }
   ],
   "source": [
    "plt.figure()\n",
    "plt.figure()\n",
    "plt.subplot(1, 5, 1)\n",
    "input = input_tensor.numpy()[0].transpose((1,2,0))\n",
    "print(input.max(), input.min())\n",
    "plt.imshow(input_img)\n",
    "plt.subplot(1, 5, 2)\n",
    "print(out.max(), out.min())\n",
    "# out = np.sqrt(np.square(out))\n",
    "# out = out * 255.0 / out.max()\n",
    "# out = out.astype(np.uint8)\n",
    "# print(out.max(), out.min())\n",
    "plt.imshow(out)\n",
    "plt.subplot(1, 5, 3)\n",
    "out = np.abs(out_v)\n",
    "# out = out * 255.0 / out.max()\n",
    "# plt.imshow(out.astype(np.uint8))\n",
    "plt.imshow(out)\n",
    "plt.subplot(1, 5, 4)\n",
    "out = np.abs(out_h)\n",
    "# out = out * 255.0 / out.max()\n",
    "# plt.imshow(out.astype(np.uint8))\n",
    "plt.imshow(out)\n",
    "plt.subplot(1, 5, 5)\n",
    "out = np.sqrt(np.square(out_v) + np.square(out_h))\n",
    "# out = out * 255.0 / out.max()\n",
    "# plt.imshow(out.astype(np.uint8))\n",
    "plt.imshow(out)\n",
    "plt.show()"
   ]
  },
  {
   "cell_type": "code",
   "execution_count": null,
   "id": "c77eccc9",
   "metadata": {},
   "outputs": [],
   "source": []
  },
  {
   "cell_type": "code",
   "execution_count": null,
   "id": "ea30aa73",
   "metadata": {},
   "outputs": [],
   "source": []
  },
  {
   "cell_type": "code",
   "execution_count": null,
   "id": "feb0bc4c",
   "metadata": {},
   "outputs": [],
   "source": []
  },
  {
   "cell_type": "code",
   "execution_count": null,
   "id": "797bbf2d",
   "metadata": {},
   "outputs": [],
   "source": []
  },
  {
   "cell_type": "code",
   "execution_count": null,
   "id": "f93b58f9",
   "metadata": {},
   "outputs": [],
   "source": []
  },
  {
   "cell_type": "code",
   "execution_count": null,
   "id": "593faf6f",
   "metadata": {},
   "outputs": [],
   "source": []
  },
  {
   "cell_type": "code",
   "execution_count": null,
   "id": "eec25a8f",
   "metadata": {},
   "outputs": [],
   "source": []
  },
  {
   "cell_type": "code",
   "execution_count": null,
   "id": "f1c4662e",
   "metadata": {},
   "outputs": [],
   "source": []
  },
  {
   "cell_type": "code",
   "execution_count": null,
   "id": "01b786d0",
   "metadata": {},
   "outputs": [],
   "source": []
  },
  {
   "cell_type": "code",
   "execution_count": null,
   "id": "5b438e7e",
   "metadata": {},
   "outputs": [],
   "source": []
  }
 ],
 "metadata": {
  "interpreter": {
   "hash": "916dbcbb3f70747c44a77c7bcd40155683ae19c65e1c03b4aa3499c5328201f1"
  },
  "kernelspec": {
   "display_name": "Python 3.8 (ipykernel)",
   "language": "python",
   "name": "python3"
  },
  "language_info": {
   "codemirror_mode": {
    "name": "ipython",
    "version": 3
   },
   "file_extension": ".py",
   "mimetype": "text/x-python",
   "name": "python",
   "nbconvert_exporter": "python",
   "pygments_lexer": "ipython3",
   "version": "3.8.12"
  }
 },
 "nbformat": 4,
 "nbformat_minor": 5
}
